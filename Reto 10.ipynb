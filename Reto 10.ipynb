{
 "cells": [
  {
   "cell_type": "code",
   "execution_count": 16,
   "metadata": {},
   "outputs": [
    {
     "name": "stdout",
     "output_type": "stream",
     "text": [
      "El promedio es:  25.0406\n"
     ]
    }
   ],
   "source": [
    "def promedioReales (*args) ->float: # Definimos la función. \n",
    "    lista = [] # Establecemos lista vacia. \n",
    "    suma = 0 # Establecemos variable. \n",
    "\n",
    "    for n in range(cantidadNumeros): # Itera. (Desde 0 hasta el valor de la variable)\n",
    "        num = float(input(\"Ingrese número: \")) # Pide ingresar valor numerico. \n",
    "        lista.append(num) # Agrega valor a la lista. \n",
    "        \n",
    "    for numeros in lista: # Itera la lista. \n",
    "        suma = suma + numeros # Suma cada valor de la lista. \n",
    "    \n",
    "    return (round((suma/len(lista)), 4)) # Devuelve valor.\n",
    "\n",
    "if __name__ == \"__main__\": # Inicializa función. \n",
    "    cantidadNumeros = int(input(\"Ingrese cantidad de números: \")) # Pide una cantidad de números. \n",
    "    print(\"El promedio es: \", promedioReales(cantidadNumeros)) # Imprime comentario y valor de la variable. \n",
    "\n"
   ]
  },
  {
   "cell_type": "code",
   "execution_count": 18,
   "metadata": {},
   "outputs": [
    {
     "name": "stdout",
     "output_type": "stream",
     "text": [
      "El punto producto de las 2 listas es: 1354\n"
     ]
    }
   ],
   "source": [
    "def productoPunto (*args) -> float: # Definimos la función. \n",
    "    listaA = [] # Establecemos lista vacia. \n",
    "    listaB = [] # Establecemos lista vacia.  \n",
    "    resultado = 1 # Establecemos variable.\n",
    "\n",
    "\n",
    "    for a in range(cantidadNumeros): # Itera. (Desde 0 hasta el valor de la variable)\n",
    "        numA = int(input(\"Ingrese valores de la lista A: \")) # Pide ingresar valor numerico. \n",
    "        listaA.append(numA) # Agrega valor a la lista.\n",
    "\n",
    "    for b in range(cantidadNumeros): # Itera. (Desde 0 hasta el valor de la variable)\n",
    "        numB = int(input(\"Ingrese numeros de la lista B: \")) # Pide ingresar valor numerico. \n",
    "        listaB.append(numB) # Agrega valor a la lista.\n",
    "\n",
    "    for x in listaA: # Itera la lista. \n",
    "        valor1 = x # Guarda valor en variable. \n",
    "        for y in listaB: # Itera la lista. \n",
    "            valor2 = y # Guarda valor en variable. \n",
    "            resultado += (valor1*valor2) # Actualiza. (Suma resultado de productos a los valores guardados en la variable. )\n",
    "\n",
    "    return (\"El punto producto de las 2 listas es: \" + str(resultado)) #Devuelve\n",
    "\n",
    "if __name__ == \"__main__\": # Inicializa función. \n",
    "    cantidadNumeros = int(input(\"Ingrese la longitud de la listas: \")) # Pide una cantidad de números. \n",
    "    print(productoPunto(cantidadNumeros)) # Imprime. \n"
   ]
  },
  {
   "cell_type": "code",
   "execution_count": 50,
   "metadata": {},
   "outputs": [
    {
     "name": "stdout",
     "output_type": "stream",
     "text": [
      "La lista original es:  [0, 9, 0, 8, 0, 9, 6]\n",
      "('La lista final es:', [9, 8, 9, 6, 0, 0, 0])\n"
     ]
    }
   ],
   "source": [
    "def eliminadorDeCeros (*args) -> int: # Definimos la función. \n",
    "    lista = [] # Establecemos lista vacia. \n",
    "\n",
    "    for n in range(cantidadNumeros): # Itera. (Desde 0 hasta el valor de la variable)\n",
    "        num = int(input(\"Ingresar valor numerico: \")) # Pide ingresar valor numerico. \n",
    "        lista.append(num) # Agrega valor a la lista. \n",
    "    \n",
    "    print (\"La lista original es: \", lista) # Imprime. \n",
    "\n",
    "    totalCeros = lista.count(0)  # Establecemos una variable. (El número de veces que aparece 0)\n",
    "\n",
    "    for repetidos in lista: # Itera la lista. \n",
    "        if repetidos == 0: # Condición: Si el valor es igual a 0 \n",
    "            lista.remove(0) # Si cumple la condición anterior: Elimina elemento 0) \n",
    "\n",
    "\n",
    "    for ceros in range(totalCeros): # Itera. (Desde 0 hasta el valor de la variable)\n",
    "        lista.append(0) # Agrega 0 a la lista. \n",
    "    \n",
    "    return 'La lista final es:', lista #Devuelve\n",
    "\n",
    "if __name__ == \"__main__\": # Inicializa función. \n",
    "    cantidadNumeros = int(input(\"Ingrese la longitud de la lista: \")) # Pide una cantidad de números. \n",
    "    print (eliminadorDeCeros(cantidadNumeros)) # Imprime."
   ]
  }
 ],
 "metadata": {
  "kernelspec": {
   "display_name": "Python 3",
   "language": "python",
   "name": "python3"
  },
  "language_info": {
   "codemirror_mode": {
    "name": "ipython",
    "version": 3
   },
   "file_extension": ".py",
   "mimetype": "text/x-python",
   "name": "python",
   "nbconvert_exporter": "python",
   "pygments_lexer": "ipython3",
   "version": "3.11.2"
  },
  "orig_nbformat": 4
 },
 "nbformat": 4,
 "nbformat_minor": 2
}
